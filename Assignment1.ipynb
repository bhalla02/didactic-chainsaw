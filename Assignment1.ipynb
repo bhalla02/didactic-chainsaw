{
 "cells": [
  {
   "cell_type": "code",
   "execution_count": 1,
   "id": "65717fd8-3181-4407-83aa-ca7cdddec532",
   "metadata": {},
   "outputs": [],
   "source": [
    "#Q1.(i)\n",
    "\n",
    "My_string = \"Hello\""
   ]
  },
  {
   "cell_type": "code",
   "execution_count": null,
   "id": "f4e66528-369f-423c-8081-f42c79b68813",
   "metadata": {},
   "outputs": [],
   "source": [
    "#Q1.(ii)\n",
    "\n",
    "l = [2,3,4,5,6,\"sarthak\", \"Python\",3.09,True]\n"
   ]
  },
  {
   "cell_type": "code",
   "execution_count": null,
   "id": "d27fc10a-ff86-41de-9f74-ea075fc87c2b",
   "metadata": {},
   "outputs": [],
   "source": [
    "#Q1.(iii)\n",
    "\n",
    "b = 30.98"
   ]
  },
  {
   "cell_type": "code",
   "execution_count": null,
   "id": "c9b65fab-91e3-4d51-aa08-eab27c7383a8",
   "metadata": {},
   "outputs": [],
   "source": [
    "#Q1.(iv)\n",
    "\n",
    "T = (20,'jessa', 32.75,[30,78,90])"
   ]
  },
  {
   "cell_type": "markdown",
   "id": "56ee9066-b912-4d05-91dc-b21f9c714a9b",
   "metadata": {},
   "source": [
    "#Q2\n",
    "\n",
    "(i) string\n",
    "(ii) string\n",
    "(iii) list\n",
    "(iv) int\n",
    "\n"
   ]
  },
  {
   "cell_type": "code",
   "execution_count": 1,
   "id": "5ac20ad8-280e-4d6b-a9fb-7ee9237d60bc",
   "metadata": {},
   "outputs": [
    {
     "name": "stdout",
     "output_type": "stream",
     "text": [
      "2.0\n"
     ]
    }
   ],
   "source": [
    "#Q3. (i)\n",
    "\n",
    "# / is used for division \n",
    "\n",
    "a=6\n",
    "b=3\n",
    "print(a/b)\n",
    "\n",
    "\n"
   ]
  },
  {
   "cell_type": "code",
   "execution_count": 3,
   "id": "ca1b0a3c-2e45-41f1-a310-43ad701feec5",
   "metadata": {},
   "outputs": [
    {
     "data": {
      "text/plain": [
       "1"
      ]
     },
     "execution_count": 3,
     "metadata": {},
     "output_type": "execute_result"
    }
   ],
   "source": [
    "#Q3 (ii)\n",
    "\n",
    "# % it is used to find the remainder of two numbers\n",
    "\n",
    "3%2\n"
   ]
  },
  {
   "cell_type": "code",
   "execution_count": 4,
   "id": "cc1f0b23-b588-43f5-827f-49e26458db03",
   "metadata": {},
   "outputs": [
    {
     "data": {
      "text/plain": [
       "0"
      ]
     },
     "execution_count": 4,
     "metadata": {},
     "output_type": "execute_result"
    }
   ],
   "source": [
    "#Q3 (iii)\n",
    "\n",
    "# // is rounds the result to nearest whole number\n",
    "\n",
    "3//5"
   ]
  },
  {
   "cell_type": "code",
   "execution_count": 5,
   "id": "686cf23d-5000-49db-9640-f11e8ac3e33d",
   "metadata": {},
   "outputs": [
    {
     "data": {
      "text/plain": [
       "8"
      ]
     },
     "execution_count": 5,
     "metadata": {},
     "output_type": "execute_result"
    }
   ],
   "source": [
    "# Q3 (iv)\n",
    "\n",
    "# ** is used to calculate powers of number\n",
    "\n",
    "2**3\n"
   ]
  },
  {
   "cell_type": "code",
   "execution_count": 6,
   "id": "323afefd-1039-42a7-844b-731a3c3f37ee",
   "metadata": {},
   "outputs": [
    {
     "name": "stdout",
     "output_type": "stream",
     "text": [
      "<class 'int'>\n",
      "2\n",
      "<class 'int'>\n",
      "3\n",
      "<class 'int'>\n",
      "4\n",
      "<class 'int'>\n",
      "5\n",
      "<class 'int'>\n",
      "6\n",
      "<class 'str'>\n",
      "Hello\n",
      "<class 'str'>\n",
      "Good\n",
      "<class 'float'>\n",
      "30.89\n",
      "<class 'bool'>\n",
      "True\n",
      "<class 'bool'>\n",
      "False\n"
     ]
    }
   ],
   "source": [
    "My_list = [ 2,3,4,5,6,\"Hello\", \"Good\",30.89,True,False]\n",
    "for i in My_list :\n",
    "    print(type(i))\n",
    "    print(i)"
   ]
  },
  {
   "cell_type": "code",
   "execution_count": 7,
   "id": "f7763225-cfed-4318-bc26-8d37afde18d2",
   "metadata": {},
   "outputs": [
    {
     "name": "stdin",
     "output_type": "stream",
     "text": [
      "Enter the value of A:  10\n",
      "Enter the value of B:  5\n"
     ]
    },
    {
     "name": "stdout",
     "output_type": "stream",
     "text": [
      "2 is divisible by 5 a total of 1 times.\n"
     ]
    }
   ],
   "source": [
    "#Q5\n",
    "\n",
    "\n",
    "A = int(input(\"Enter the value of A: \"))\n",
    "B = int(input(\"Enter the value of B: \"))\n",
    "count = 0\n",
    "\n",
    "while A % B == 0:\n",
    "    A = A // B\n",
    "    count += 1\n",
    "\n",
    "if count > 0:\n",
    "    print(f\"{A} is divisible by {B} a total of {count} times.\")\n",
    "else:\n",
    "    print(f\"{A} is not divisible by {B}.\")\n",
    "    "
   ]
  },
  {
   "cell_type": "code",
   "execution_count": 8,
   "id": "63efefbd-ca57-45d9-993f-d2bce1d597ac",
   "metadata": {},
   "outputs": [
    {
     "name": "stdout",
     "output_type": "stream",
     "text": [
      "7 is not divisible by 3.\n",
      "12 is divisible by 3.\n",
      "9 is divisible by 3.\n",
      "4 is not divisible by 3.\n",
      "18 is divisible by 3.\n",
      "21 is divisible by 3.\n",
      "13 is not divisible by 3.\n",
      "15 is divisible by 3.\n",
      "28 is not divisible by 3.\n",
      "30 is divisible by 3.\n",
      "5 is not divisible by 3.\n",
      "8 is not divisible by 3.\n",
      "11 is not divisible by 3.\n",
      "27 is divisible by 3.\n",
      "36 is divisible by 3.\n",
      "42 is divisible by 3.\n",
      "19 is not divisible by 3.\n",
      "22 is not divisible by 3.\n",
      "25 is not divisible by 3.\n",
      "33 is divisible by 3.\n",
      "16 is not divisible by 3.\n",
      "20 is not divisible by 3.\n",
      "39 is divisible by 3.\n",
      "45 is divisible by 3.\n",
      "48 is divisible by 3.\n"
     ]
    }
   ],
   "source": [
    "# Q6\n",
    "num_list = [7, 12, 9, 4, 18, 21, 13, 15, 28, 30, 5, 8, 11, 27, 36, 42, 19, 22, 25, 33, 16, 20, 39, 45, 48]\n",
    "\n",
    "\n",
    "for num in num_list:\n",
    "    if num % 3 == 0:\n",
    "        print(f\"{num} is divisible by 3.\")\n",
    "    else:\n",
    "        print(f\"{num} is not divisible by 3.\")\n"
   ]
  },
  {
   "cell_type": "markdown",
   "id": "9ac617c9-dca9-4278-9df6-9c8a76c87421",
   "metadata": {},
   "source": [
    "# Q7\n",
    "\n",
    "Immutable data types are those whose values cannot be changed after they are created. \n",
    "When you modify an immutable object, you are actually creating a new object. \n",
    "This property ensures that the original value remains unchanged.\n",
    "\n",
    "Mutable data types are those whose values can be changed after they are created. This means you can modify their contents without creating a new object."
   ]
  }
 ],
 "metadata": {
  "kernelspec": {
   "display_name": "Python 3 (ipykernel)",
   "language": "python",
   "name": "python3"
  },
  "language_info": {
   "codemirror_mode": {
    "name": "ipython",
    "version": 3
   },
   "file_extension": ".py",
   "mimetype": "text/x-python",
   "name": "python",
   "nbconvert_exporter": "python",
   "pygments_lexer": "ipython3",
   "version": "3.10.8"
  }
 },
 "nbformat": 4,
 "nbformat_minor": 5
}
